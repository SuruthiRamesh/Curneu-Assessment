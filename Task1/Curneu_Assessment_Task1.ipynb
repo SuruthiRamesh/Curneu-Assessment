{
  "nbformat": 4,
  "nbformat_minor": 0,
  "metadata": {
    "colab": {
      "name": "Curneu Assessment Task1.ipynb",
      "provenance": [],
      "collapsed_sections": []
    },
    "kernelspec": {
      "name": "python3",
      "display_name": "Python 3"
    }
  },
  "cells": [
    {
      "cell_type": "markdown",
      "metadata": {
        "id": "h1HAJvsW3LvB"
      },
      "source": [
        "# **Importing Libraries**"
      ]
    },
    {
      "cell_type": "code",
      "metadata": {
        "id": "-BFq4fnXs-uX",
        "colab": {
          "base_uri": "https://localhost:8080/"
        },
        "outputId": "6ef5b2ae-8c82-49ff-dd9b-b9aeffa4bf78"
      },
      "source": [
        "import pandas as pd\r\n",
        "import numpy as np\r\n",
        "import seaborn as sns\r\n",
        "import matplotlib.pyplot as plt\r\n",
        "import statsmodels.api as sm \r\n",
        "from sklearn.preprocessing import StandardScaler \r\n",
        "from sklearn.model_selection import train_test_split\r\n",
        "from sklearn.linear_model import LinearRegression\r\n",
        "from sklearn.metrics import mean_squared_error, mean_absolute_error, r2_score\r\n",
        "%matplotlib inline\r\n",
        "sns.set_style('darkgrid')"
      ],
      "execution_count": null,
      "outputs": [
        {
          "output_type": "stream",
          "text": [
            "/usr/local/lib/python3.7/dist-packages/statsmodels/tools/_testing.py:19: FutureWarning: pandas.util.testing is deprecated. Use the functions in the public API at pandas.testing instead.\n",
            "  import pandas.util.testing as tm\n"
          ],
          "name": "stderr"
        }
      ]
    },
    {
      "cell_type": "markdown",
      "metadata": {
        "id": "IrEPNuo73T9T"
      },
      "source": [
        "# **Loading the Dataset**"
      ]
    },
    {
      "cell_type": "code",
      "metadata": {
        "id": "CnRXfPf6Gr-1",
        "colab": {
          "base_uri": "https://localhost:8080/"
        },
        "outputId": "55f7823f-ff33-40f6-ff38-4a1543a1417b"
      },
      "source": [
        "import pandas as pd\r\n",
        "import numpy\r\n",
        "from sklearn.naive_bayes import GaussianNB\r\n",
        "import matplotlib.pyplot as plt\r\n",
        "import numpy as np\r\n",
        "import pandas as pd\r\n",
        "from google.colab import drive\r\n",
        "drive.mount('/content/drive')\r\n",
        "path = '/content/drive/MyDrive/houses_to_rent.csv'\r\n",
        "data= pd.read_csv(path)\r\n",
        "print(data)\r\n",
        "data.head()\r\n",
        "data.shape\r\n",
        "data.info()"
      ],
      "execution_count": null,
      "outputs": [
        {
          "output_type": "stream",
          "text": [
            "Mounted at /content/drive\n",
            "                 city  area  ...  fire insurance (R$)  total (R$)\n",
            "0           São Paulo    70  ...                   42        5618\n",
            "1           São Paulo   320  ...                   63        7973\n",
            "2        Porto Alegre    80  ...                   41        3841\n",
            "3        Porto Alegre    51  ...                   17        1421\n",
            "4           São Paulo    25  ...                   11         836\n",
            "...               ...   ...  ...                  ...         ...\n",
            "10687    Porto Alegre    63  ...                   22        1926\n",
            "10688       São Paulo   285  ...                  191       19260\n",
            "10689  Rio de Janeiro    70  ...                   78        7390\n",
            "10690  Rio de Janeiro   120  ...                  155       14020\n",
            "10691       São Paulo    80  ...                   22        1587\n",
            "\n",
            "[10692 rows x 13 columns]\n",
            "<class 'pandas.core.frame.DataFrame'>\n",
            "RangeIndex: 10692 entries, 0 to 10691\n",
            "Data columns (total 13 columns):\n",
            " #   Column               Non-Null Count  Dtype \n",
            "---  ------               --------------  ----- \n",
            " 0   city                 10692 non-null  object\n",
            " 1   area                 10692 non-null  int64 \n",
            " 2   rooms                10692 non-null  int64 \n",
            " 3   bathroom             10692 non-null  int64 \n",
            " 4   parking spaces       10692 non-null  int64 \n",
            " 5   floor                10692 non-null  object\n",
            " 6   animal               10692 non-null  object\n",
            " 7   furniture            10692 non-null  object\n",
            " 8   hoa (R$)             10692 non-null  int64 \n",
            " 9   rent amount (R$)     10692 non-null  int64 \n",
            " 10  property tax (R$)    10692 non-null  int64 \n",
            " 11  fire insurance (R$)  10692 non-null  int64 \n",
            " 12  total (R$)           10692 non-null  int64 \n",
            "dtypes: int64(9), object(4)\n",
            "memory usage: 1.1+ MB\n"
          ],
          "name": "stdout"
        }
      ]
    },
    {
      "cell_type": "markdown",
      "metadata": {
        "id": "gBiuyT_M3c1N"
      },
      "source": [
        "# **Encoding**"
      ]
    },
    {
      "cell_type": "code",
      "metadata": {
        "id": "OipJJLxuQXjW",
        "colab": {
          "base_uri": "https://localhost:8080/"
        },
        "outputId": "643f8d9e-dceb-48f8-e2e4-d8d6569529c0"
      },
      "source": [
        "data['floor'] = data['floor'].replace(to_replace = '-' , value =np.nan)\r\n",
        "data['floor'] = data['floor'].astype(float)\r\n",
        "data.info()"
      ],
      "execution_count": null,
      "outputs": [
        {
          "output_type": "stream",
          "text": [
            "<class 'pandas.core.frame.DataFrame'>\n",
            "RangeIndex: 10692 entries, 0 to 10691\n",
            "Data columns (total 13 columns):\n",
            " #   Column               Non-Null Count  Dtype  \n",
            "---  ------               --------------  -----  \n",
            " 0   city                 10692 non-null  object \n",
            " 1   area                 10692 non-null  int64  \n",
            " 2   rooms                10692 non-null  int64  \n",
            " 3   bathroom             10692 non-null  int64  \n",
            " 4   parking spaces       10692 non-null  int64  \n",
            " 5   floor                8231 non-null   float64\n",
            " 6   animal               10692 non-null  object \n",
            " 7   furniture            10692 non-null  object \n",
            " 8   hoa (R$)             10692 non-null  int64  \n",
            " 9   rent amount (R$)     10692 non-null  int64  \n",
            " 10  property tax (R$)    10692 non-null  int64  \n",
            " 11  fire insurance (R$)  10692 non-null  int64  \n",
            " 12  total (R$)           10692 non-null  int64  \n",
            "dtypes: float64(1), int64(9), object(3)\n",
            "memory usage: 1.1+ MB\n"
          ],
          "name": "stdout"
        }
      ]
    },
    {
      "cell_type": "code",
      "metadata": {
        "id": "pG2xMQNWSJdq",
        "colab": {
          "base_uri": "https://localhost:8080/"
        },
        "outputId": "b4619172-ed14-45a3-e8ee-ebdbe4af02bb"
      },
      "source": [
        "data['animal'].fillna(value=data['animal'].mode()[0], inplace=True)\r\n",
        "data['animal']= data[\"animal\"].replace(\"acept\", \"1\")\r\n",
        "data['animal']= data[\"animal\"].replace(\"not acept\", \"0\")\r\n",
        "data['animal'] = data['animal'].astype(int)\r\n",
        "data['furniture'].fillna(value=data['furniture'].mode()[0], inplace=True)\r\n",
        "data['furniture']= data[\"furniture\"].replace(\"furnished\", \"1\")\r\n",
        "data['furniture']= data[\"furniture\"].replace(\"not furnished\", \"0\")\r\n",
        "data['furniture'] = data['furniture'].astype(int)\r\n",
        "data.info()"
      ],
      "execution_count": null,
      "outputs": [
        {
          "output_type": "stream",
          "text": [
            "<class 'pandas.core.frame.DataFrame'>\n",
            "RangeIndex: 10692 entries, 0 to 10691\n",
            "Data columns (total 13 columns):\n",
            " #   Column               Non-Null Count  Dtype  \n",
            "---  ------               --------------  -----  \n",
            " 0   city                 10692 non-null  object \n",
            " 1   area                 10692 non-null  int64  \n",
            " 2   rooms                10692 non-null  int64  \n",
            " 3   bathroom             10692 non-null  int64  \n",
            " 4   parking spaces       10692 non-null  int64  \n",
            " 5   floor                8231 non-null   float64\n",
            " 6   animal               10692 non-null  int64  \n",
            " 7   furniture            10692 non-null  int64  \n",
            " 8   hoa (R$)             10692 non-null  int64  \n",
            " 9   rent amount (R$)     10692 non-null  int64  \n",
            " 10  property tax (R$)    10692 non-null  int64  \n",
            " 11  fire insurance (R$)  10692 non-null  int64  \n",
            " 12  total (R$)           10692 non-null  int64  \n",
            "dtypes: float64(1), int64(11), object(1)\n",
            "memory usage: 1.1+ MB\n"
          ],
          "name": "stdout"
        }
      ]
    },
    {
      "cell_type": "code",
      "metadata": {
        "id": "r8cMTgYZZOHn",
        "colab": {
          "base_uri": "https://localhost:8080/",
          "height": 301
        },
        "outputId": "e4e4301a-9edd-4f31-b910-f44985b14ba8"
      },
      "source": [
        "data.describe()"
      ],
      "execution_count": null,
      "outputs": [
        {
          "output_type": "execute_result",
          "data": {
            "text/html": [
              "<div>\n",
              "<style scoped>\n",
              "    .dataframe tbody tr th:only-of-type {\n",
              "        vertical-align: middle;\n",
              "    }\n",
              "\n",
              "    .dataframe tbody tr th {\n",
              "        vertical-align: top;\n",
              "    }\n",
              "\n",
              "    .dataframe thead th {\n",
              "        text-align: right;\n",
              "    }\n",
              "</style>\n",
              "<table border=\"1\" class=\"dataframe\">\n",
              "  <thead>\n",
              "    <tr style=\"text-align: right;\">\n",
              "      <th></th>\n",
              "      <th>area</th>\n",
              "      <th>rooms</th>\n",
              "      <th>bathroom</th>\n",
              "      <th>parking spaces</th>\n",
              "      <th>floor</th>\n",
              "      <th>animal</th>\n",
              "      <th>furniture</th>\n",
              "      <th>hoa (R$)</th>\n",
              "      <th>rent amount (R$)</th>\n",
              "      <th>property tax (R$)</th>\n",
              "      <th>fire insurance (R$)</th>\n",
              "      <th>total (R$)</th>\n",
              "    </tr>\n",
              "  </thead>\n",
              "  <tbody>\n",
              "    <tr>\n",
              "      <th>count</th>\n",
              "      <td>10692.000000</td>\n",
              "      <td>10692.000000</td>\n",
              "      <td>10692.000000</td>\n",
              "      <td>10692.000000</td>\n",
              "      <td>8231.000000</td>\n",
              "      <td>10692.000000</td>\n",
              "      <td>10692.000000</td>\n",
              "      <td>1.069200e+04</td>\n",
              "      <td>10692.000000</td>\n",
              "      <td>10692.000000</td>\n",
              "      <td>10692.000000</td>\n",
              "      <td>1.069200e+04</td>\n",
              "    </tr>\n",
              "    <tr>\n",
              "      <th>mean</th>\n",
              "      <td>149.217920</td>\n",
              "      <td>2.506079</td>\n",
              "      <td>2.236813</td>\n",
              "      <td>1.609147</td>\n",
              "      <td>6.583283</td>\n",
              "      <td>0.777778</td>\n",
              "      <td>0.243734</td>\n",
              "      <td>1.174022e+03</td>\n",
              "      <td>3896.247194</td>\n",
              "      <td>366.704358</td>\n",
              "      <td>53.300879</td>\n",
              "      <td>5.490487e+03</td>\n",
              "    </tr>\n",
              "    <tr>\n",
              "      <th>std</th>\n",
              "      <td>537.016942</td>\n",
              "      <td>1.171266</td>\n",
              "      <td>1.407198</td>\n",
              "      <td>1.589521</td>\n",
              "      <td>6.153925</td>\n",
              "      <td>0.415759</td>\n",
              "      <td>0.429354</td>\n",
              "      <td>1.559231e+04</td>\n",
              "      <td>3408.545518</td>\n",
              "      <td>3107.832321</td>\n",
              "      <td>47.768031</td>\n",
              "      <td>1.648473e+04</td>\n",
              "    </tr>\n",
              "    <tr>\n",
              "      <th>min</th>\n",
              "      <td>11.000000</td>\n",
              "      <td>1.000000</td>\n",
              "      <td>1.000000</td>\n",
              "      <td>0.000000</td>\n",
              "      <td>1.000000</td>\n",
              "      <td>0.000000</td>\n",
              "      <td>0.000000</td>\n",
              "      <td>0.000000e+00</td>\n",
              "      <td>450.000000</td>\n",
              "      <td>0.000000</td>\n",
              "      <td>3.000000</td>\n",
              "      <td>4.990000e+02</td>\n",
              "    </tr>\n",
              "    <tr>\n",
              "      <th>25%</th>\n",
              "      <td>56.000000</td>\n",
              "      <td>2.000000</td>\n",
              "      <td>1.000000</td>\n",
              "      <td>0.000000</td>\n",
              "      <td>2.000000</td>\n",
              "      <td>1.000000</td>\n",
              "      <td>0.000000</td>\n",
              "      <td>1.700000e+02</td>\n",
              "      <td>1530.000000</td>\n",
              "      <td>38.000000</td>\n",
              "      <td>21.000000</td>\n",
              "      <td>2.061750e+03</td>\n",
              "    </tr>\n",
              "    <tr>\n",
              "      <th>50%</th>\n",
              "      <td>90.000000</td>\n",
              "      <td>2.000000</td>\n",
              "      <td>2.000000</td>\n",
              "      <td>1.000000</td>\n",
              "      <td>5.000000</td>\n",
              "      <td>1.000000</td>\n",
              "      <td>0.000000</td>\n",
              "      <td>5.600000e+02</td>\n",
              "      <td>2661.000000</td>\n",
              "      <td>125.000000</td>\n",
              "      <td>36.000000</td>\n",
              "      <td>3.581500e+03</td>\n",
              "    </tr>\n",
              "    <tr>\n",
              "      <th>75%</th>\n",
              "      <td>182.000000</td>\n",
              "      <td>3.000000</td>\n",
              "      <td>3.000000</td>\n",
              "      <td>2.000000</td>\n",
              "      <td>9.000000</td>\n",
              "      <td>1.000000</td>\n",
              "      <td>0.000000</td>\n",
              "      <td>1.237500e+03</td>\n",
              "      <td>5000.000000</td>\n",
              "      <td>375.000000</td>\n",
              "      <td>68.000000</td>\n",
              "      <td>6.768000e+03</td>\n",
              "    </tr>\n",
              "    <tr>\n",
              "      <th>max</th>\n",
              "      <td>46335.000000</td>\n",
              "      <td>13.000000</td>\n",
              "      <td>10.000000</td>\n",
              "      <td>12.000000</td>\n",
              "      <td>301.000000</td>\n",
              "      <td>1.000000</td>\n",
              "      <td>1.000000</td>\n",
              "      <td>1.117000e+06</td>\n",
              "      <td>45000.000000</td>\n",
              "      <td>313700.000000</td>\n",
              "      <td>677.000000</td>\n",
              "      <td>1.120000e+06</td>\n",
              "    </tr>\n",
              "  </tbody>\n",
              "</table>\n",
              "</div>"
            ],
            "text/plain": [
              "               area         rooms  ...  fire insurance (R$)    total (R$)\n",
              "count  10692.000000  10692.000000  ...         10692.000000  1.069200e+04\n",
              "mean     149.217920      2.506079  ...            53.300879  5.490487e+03\n",
              "std      537.016942      1.171266  ...            47.768031  1.648473e+04\n",
              "min       11.000000      1.000000  ...             3.000000  4.990000e+02\n",
              "25%       56.000000      2.000000  ...            21.000000  2.061750e+03\n",
              "50%       90.000000      2.000000  ...            36.000000  3.581500e+03\n",
              "75%      182.000000      3.000000  ...            68.000000  6.768000e+03\n",
              "max    46335.000000     13.000000  ...           677.000000  1.120000e+06\n",
              "\n",
              "[8 rows x 12 columns]"
            ]
          },
          "metadata": {
            "tags": []
          },
          "execution_count": 5
        }
      ]
    },
    {
      "cell_type": "code",
      "metadata": {
        "id": "6jrg1TCZxD6w"
      },
      "source": [
        "data['floor'] = data['floor'].replace(np.nan, 0)\r\n",
        "data['floor'] = data['floor'].astype(int)\r\n",
        "data['city'].fillna(value=data['city'].mode()[0], inplace=True)\r\n",
        "data['city']= data['city'].replace(\"Belo Horizonte\", \"0\")\r\n",
        "data['city']= data['city'].replace(\"Campinas\", \"1\")\r\n",
        "data['city']= data['city'].replace(\"Porto Alegre\", \"2\")\r\n",
        "data['city']= data['city'].replace(\"Rio de Janeiro\", \"3\")\r\n",
        "data['city']= data['city'].replace(\"São Paulo\", \"4\")\r\n",
        "data['city'] = data['city'].astype(int)"
      ],
      "execution_count": null,
      "outputs": []
    },
    {
      "cell_type": "code",
      "metadata": {
        "id": "kj5KFAyIZ-dO",
        "colab": {
          "base_uri": "https://localhost:8080/"
        },
        "outputId": "bcd018b4-5939-4d5d-9f08-4b911f171884"
      },
      "source": [
        "data.isnull().sum()\r\n",
        "data.info()"
      ],
      "execution_count": null,
      "outputs": [
        {
          "output_type": "stream",
          "text": [
            "<class 'pandas.core.frame.DataFrame'>\n",
            "RangeIndex: 10692 entries, 0 to 10691\n",
            "Data columns (total 13 columns):\n",
            " #   Column               Non-Null Count  Dtype\n",
            "---  ------               --------------  -----\n",
            " 0   city                 10692 non-null  int64\n",
            " 1   area                 10692 non-null  int64\n",
            " 2   rooms                10692 non-null  int64\n",
            " 3   bathroom             10692 non-null  int64\n",
            " 4   parking spaces       10692 non-null  int64\n",
            " 5   floor                10692 non-null  int64\n",
            " 6   animal               10692 non-null  int64\n",
            " 7   furniture            10692 non-null  int64\n",
            " 8   hoa (R$)             10692 non-null  int64\n",
            " 9   rent amount (R$)     10692 non-null  int64\n",
            " 10  property tax (R$)    10692 non-null  int64\n",
            " 11  fire insurance (R$)  10692 non-null  int64\n",
            " 12  total (R$)           10692 non-null  int64\n",
            "dtypes: int64(13)\n",
            "memory usage: 1.1 MB\n"
          ],
          "name": "stdout"
        }
      ]
    },
    {
      "cell_type": "markdown",
      "metadata": {
        "id": "yhWjDC053igo"
      },
      "source": [
        "# **Removing Duplicate Values**"
      ]
    },
    {
      "cell_type": "code",
      "metadata": {
        "id": "3fnmWgCD2Pyl",
        "colab": {
          "base_uri": "https://localhost:8080/",
          "height": 418
        },
        "outputId": "20e53a69-978d-4c5e-a89d-ebc10ae946ca"
      },
      "source": [
        "duplicate = data.duplicated()\r\n",
        "print(duplicate.sum())\r\n",
        "data[duplicate]"
      ],
      "execution_count": null,
      "outputs": [
        {
          "output_type": "stream",
          "text": [
            "358\n"
          ],
          "name": "stdout"
        },
        {
          "output_type": "execute_result",
          "data": {
            "text/html": [
              "<div>\n",
              "<style scoped>\n",
              "    .dataframe tbody tr th:only-of-type {\n",
              "        vertical-align: middle;\n",
              "    }\n",
              "\n",
              "    .dataframe tbody tr th {\n",
              "        vertical-align: top;\n",
              "    }\n",
              "\n",
              "    .dataframe thead th {\n",
              "        text-align: right;\n",
              "    }\n",
              "</style>\n",
              "<table border=\"1\" class=\"dataframe\">\n",
              "  <thead>\n",
              "    <tr style=\"text-align: right;\">\n",
              "      <th></th>\n",
              "      <th>city</th>\n",
              "      <th>area</th>\n",
              "      <th>rooms</th>\n",
              "      <th>bathroom</th>\n",
              "      <th>parking spaces</th>\n",
              "      <th>floor</th>\n",
              "      <th>animal</th>\n",
              "      <th>furniture</th>\n",
              "      <th>hoa (R$)</th>\n",
              "      <th>rent amount (R$)</th>\n",
              "      <th>property tax (R$)</th>\n",
              "      <th>fire insurance (R$)</th>\n",
              "      <th>total (R$)</th>\n",
              "    </tr>\n",
              "  </thead>\n",
              "  <tbody>\n",
              "    <tr>\n",
              "      <th>244</th>\n",
              "      <td>2</td>\n",
              "      <td>47</td>\n",
              "      <td>1</td>\n",
              "      <td>1</td>\n",
              "      <td>1</td>\n",
              "      <td>1</td>\n",
              "      <td>0</td>\n",
              "      <td>1</td>\n",
              "      <td>400</td>\n",
              "      <td>2200</td>\n",
              "      <td>0</td>\n",
              "      <td>33</td>\n",
              "      <td>2633</td>\n",
              "    </tr>\n",
              "    <tr>\n",
              "      <th>920</th>\n",
              "      <td>0</td>\n",
              "      <td>40</td>\n",
              "      <td>1</td>\n",
              "      <td>1</td>\n",
              "      <td>1</td>\n",
              "      <td>2</td>\n",
              "      <td>0</td>\n",
              "      <td>1</td>\n",
              "      <td>0</td>\n",
              "      <td>970</td>\n",
              "      <td>0</td>\n",
              "      <td>13</td>\n",
              "      <td>983</td>\n",
              "    </tr>\n",
              "    <tr>\n",
              "      <th>1060</th>\n",
              "      <td>4</td>\n",
              "      <td>136</td>\n",
              "      <td>3</td>\n",
              "      <td>3</td>\n",
              "      <td>3</td>\n",
              "      <td>13</td>\n",
              "      <td>1</td>\n",
              "      <td>0</td>\n",
              "      <td>1430</td>\n",
              "      <td>4206</td>\n",
              "      <td>364</td>\n",
              "      <td>54</td>\n",
              "      <td>6054</td>\n",
              "    </tr>\n",
              "    <tr>\n",
              "      <th>1064</th>\n",
              "      <td>4</td>\n",
              "      <td>20</td>\n",
              "      <td>1</td>\n",
              "      <td>1</td>\n",
              "      <td>0</td>\n",
              "      <td>5</td>\n",
              "      <td>1</td>\n",
              "      <td>1</td>\n",
              "      <td>602</td>\n",
              "      <td>1800</td>\n",
              "      <td>130</td>\n",
              "      <td>23</td>\n",
              "      <td>2555</td>\n",
              "    </tr>\n",
              "    <tr>\n",
              "      <th>1108</th>\n",
              "      <td>1</td>\n",
              "      <td>184</td>\n",
              "      <td>4</td>\n",
              "      <td>3</td>\n",
              "      <td>4</td>\n",
              "      <td>0</td>\n",
              "      <td>1</td>\n",
              "      <td>0</td>\n",
              "      <td>0</td>\n",
              "      <td>3240</td>\n",
              "      <td>220</td>\n",
              "      <td>49</td>\n",
              "      <td>3509</td>\n",
              "    </tr>\n",
              "    <tr>\n",
              "      <th>...</th>\n",
              "      <td>...</td>\n",
              "      <td>...</td>\n",
              "      <td>...</td>\n",
              "      <td>...</td>\n",
              "      <td>...</td>\n",
              "      <td>...</td>\n",
              "      <td>...</td>\n",
              "      <td>...</td>\n",
              "      <td>...</td>\n",
              "      <td>...</td>\n",
              "      <td>...</td>\n",
              "      <td>...</td>\n",
              "      <td>...</td>\n",
              "    </tr>\n",
              "    <tr>\n",
              "      <th>10560</th>\n",
              "      <td>2</td>\n",
              "      <td>40</td>\n",
              "      <td>1</td>\n",
              "      <td>1</td>\n",
              "      <td>1</td>\n",
              "      <td>9</td>\n",
              "      <td>0</td>\n",
              "      <td>1</td>\n",
              "      <td>1300</td>\n",
              "      <td>1200</td>\n",
              "      <td>68</td>\n",
              "      <td>18</td>\n",
              "      <td>2586</td>\n",
              "    </tr>\n",
              "    <tr>\n",
              "      <th>10569</th>\n",
              "      <td>0</td>\n",
              "      <td>20</td>\n",
              "      <td>1</td>\n",
              "      <td>1</td>\n",
              "      <td>1</td>\n",
              "      <td>0</td>\n",
              "      <td>1</td>\n",
              "      <td>1</td>\n",
              "      <td>0</td>\n",
              "      <td>1100</td>\n",
              "      <td>0</td>\n",
              "      <td>15</td>\n",
              "      <td>1115</td>\n",
              "    </tr>\n",
              "    <tr>\n",
              "      <th>10623</th>\n",
              "      <td>2</td>\n",
              "      <td>47</td>\n",
              "      <td>1</td>\n",
              "      <td>1</td>\n",
              "      <td>1</td>\n",
              "      <td>1</td>\n",
              "      <td>0</td>\n",
              "      <td>1</td>\n",
              "      <td>400</td>\n",
              "      <td>2200</td>\n",
              "      <td>0</td>\n",
              "      <td>33</td>\n",
              "      <td>2633</td>\n",
              "    </tr>\n",
              "    <tr>\n",
              "      <th>10640</th>\n",
              "      <td>4</td>\n",
              "      <td>27</td>\n",
              "      <td>1</td>\n",
              "      <td>1</td>\n",
              "      <td>0</td>\n",
              "      <td>5</td>\n",
              "      <td>0</td>\n",
              "      <td>0</td>\n",
              "      <td>1405</td>\n",
              "      <td>3500</td>\n",
              "      <td>1</td>\n",
              "      <td>45</td>\n",
              "      <td>4951</td>\n",
              "    </tr>\n",
              "    <tr>\n",
              "      <th>10641</th>\n",
              "      <td>0</td>\n",
              "      <td>58</td>\n",
              "      <td>2</td>\n",
              "      <td>2</td>\n",
              "      <td>1</td>\n",
              "      <td>5</td>\n",
              "      <td>1</td>\n",
              "      <td>0</td>\n",
              "      <td>400</td>\n",
              "      <td>999</td>\n",
              "      <td>99</td>\n",
              "      <td>14</td>\n",
              "      <td>1512</td>\n",
              "    </tr>\n",
              "  </tbody>\n",
              "</table>\n",
              "<p>358 rows × 13 columns</p>\n",
              "</div>"
            ],
            "text/plain": [
              "       city  area  rooms  ...  property tax (R$)  fire insurance (R$)  total (R$)\n",
              "244       2    47      1  ...                  0                   33        2633\n",
              "920       0    40      1  ...                  0                   13         983\n",
              "1060      4   136      3  ...                364                   54        6054\n",
              "1064      4    20      1  ...                130                   23        2555\n",
              "1108      1   184      4  ...                220                   49        3509\n",
              "...     ...   ...    ...  ...                ...                  ...         ...\n",
              "10560     2    40      1  ...                 68                   18        2586\n",
              "10569     0    20      1  ...                  0                   15        1115\n",
              "10623     2    47      1  ...                  0                   33        2633\n",
              "10640     4    27      1  ...                  1                   45        4951\n",
              "10641     0    58      2  ...                 99                   14        1512\n",
              "\n",
              "[358 rows x 13 columns]"
            ]
          },
          "metadata": {
            "tags": []
          },
          "execution_count": 8
        }
      ]
    },
    {
      "cell_type": "code",
      "metadata": {
        "id": "HbTGq4Kd2Pwp",
        "colab": {
          "base_uri": "https://localhost:8080/"
        },
        "outputId": "920e290c-9bde-4055-9468-8e139a440bb3"
      },
      "source": [
        "data.drop_duplicates(inplace=True)\r\n",
        "dp1 = data.duplicated()\r\n",
        "dp1.sum()"
      ],
      "execution_count": null,
      "outputs": [
        {
          "output_type": "execute_result",
          "data": {
            "text/plain": [
              "0"
            ]
          },
          "metadata": {
            "tags": []
          },
          "execution_count": 9
        }
      ]
    },
    {
      "cell_type": "markdown",
      "metadata": {
        "id": "z9MldTwC3pQp"
      },
      "source": [
        "# **Removing Outliers**"
      ]
    },
    {
      "cell_type": "code",
      "metadata": {
        "id": "kvaz9pzo2tyv",
        "colab": {
          "base_uri": "https://localhost:8080/",
          "height": 282
        },
        "outputId": "0afac40a-758b-452a-ac08-1b4ab1ba1e5e"
      },
      "source": [
        "data.boxplot(column=[\"area\"])\r\n",
        "plt.show\r\n"
      ],
      "execution_count": null,
      "outputs": [
        {
          "output_type": "execute_result",
          "data": {
            "text/plain": [
              "<function matplotlib.pyplot.show>"
            ]
          },
          "metadata": {
            "tags": []
          },
          "execution_count": 10
        },
        {
          "output_type": "display_data",
          "data": {
            "image/png": "[encoded data removed]",
            "text/plain": [
              "<Figure size 432x288 with 1 Axes>"
            ]
          },
          "metadata": {
            "tags": [],
            "needs_background": "light"
          }
        }
      ]
    },
    {
      "cell_type": "code",
      "metadata": {
        "id": "i7LwGG523Rys"
      },
      "source": [
        "def remove_outlier(col):\r\n",
        "  sorted(col)\r\n",
        "  Q1,Q3=col.quantile([0.25,0.75])\r\n",
        "  IQR=Q3-Q1\r\n",
        "  lower_range= Q1-(1.5 * IQR)\r\n",
        "  upper_range= Q3+(1.5 * IQR)\r\n",
        "  return lower_range, upper_range"
      ],
      "execution_count": null,
      "outputs": []
    },
    {
      "cell_type": "code",
      "metadata": {
        "id": "g__ADWau3uUX"
      },
      "source": [
        "lowarea,upparea=remove_outlier(data['area'])\r\n",
        "data['area']=np.where(data['area']>upparea,upparea,data['area'])\r\n",
        "data['area']=np.where(data['area']<lowarea,lowarea,data['area'])"
      ],
      "execution_count": null,
      "outputs": []
    },
    {
      "cell_type": "code",
      "metadata": {
        "id": "Gks6JIIS4FZu",
        "colab": {
          "base_uri": "https://localhost:8080/",
          "height": 267
        },
        "outputId": "5c8d563a-2d69-4c1a-82b9-41f858f9fc13"
      },
      "source": [
        "data.boxplot(column=['area'])\r\n",
        "plt.show()"
      ],
      "execution_count": null,
      "outputs": [
        {
          "output_type": "display_data",
          "data": {
            "image/png": "[encoded data removed]",
            "text/plain": [
              "<Figure size 432x288 with 1 Axes>"
            ]
          },
          "metadata": {
            "tags": [],
            "needs_background": "light"
          }
        }
      ]
    },
    {
      "cell_type": "code",
      "metadata": {
        "id": "hAOoycOg6qxs",
        "colab": {
          "base_uri": "https://localhost:8080/",
          "height": 282
        },
        "outputId": "32db5e3d-8811-4833-ea6d-5713db9a1a29"
      },
      "source": [
        "data.boxplot(column=[\"rooms\"])\r\n",
        "plt.show"
      ],
      "execution_count": null,
      "outputs": [
        {
          "output_type": "execute_result",
          "data": {
            "text/plain": [
              "<function matplotlib.pyplot.show>"
            ]
          },
          "metadata": {
            "tags": []
          },
          "execution_count": 14
        },
        {
          "output_type": "display_data",
          "data": {
            "image/png": "[encoded data removed]",
            "text/plain": [
              "<Figure size 432x288 with 1 Axes>"
            ]
          },
          "metadata": {
            "tags": [],
            "needs_background": "light"
          }
        }
      ]
    },
    {
      "cell_type": "code",
      "metadata": {
        "id": "ckj0Tz2W6zx2"
      },
      "source": [
        "lowarea,upparea=remove_outlier(data['rooms'])\r\n",
        "data['rooms']=np.where(data['rooms']>upparea,upparea,data['rooms'])\r\n",
        "data['rooms']=np.where(data['rooms']<lowarea,lowarea,data['rooms'])"
      ],
      "execution_count": null,
      "outputs": []
    },
    {
      "cell_type": "code",
      "metadata": {
        "id": "Jr-dFpFJ6-6t",
        "colab": {
          "base_uri": "https://localhost:8080/",
          "height": 282
        },
        "outputId": "b8e6a06a-9ab7-4f34-9d0a-327c83ccf800"
      },
      "source": [
        "data.boxplot(column=[\"rooms\"])\r\n",
        "plt.show"
      ],
      "execution_count": null,
      "outputs": [
        {
          "output_type": "execute_result",
          "data": {
            "text/plain": [
              "<function matplotlib.pyplot.show>"
            ]
          },
          "metadata": {
            "tags": []
          },
          "execution_count": 16
        },
        {
          "output_type": "display_data",
          "data": {
            "image/png": "[encoded data removed]",
            "text/plain": [
              "<Figure size 432x288 with 1 Axes>"
            ]
          },
          "metadata": {
            "tags": [],
            "needs_background": "light"
          }
        }
      ]
    },
    {
      "cell_type": "code",
      "metadata": {
        "id": "pN99wUxr7DOh",
        "colab": {
          "base_uri": "https://localhost:8080/",
          "height": 282
        },
        "outputId": "dde157a1-ac00-41a9-c0de-3609bb32d09a"
      },
      "source": [
        "data.boxplot(column=[\"bathroom\"])\r\n",
        "plt.show"
      ],
      "execution_count": null,
      "outputs": [
        {
          "output_type": "execute_result",
          "data": {
            "text/plain": [
              "<function matplotlib.pyplot.show>"
            ]
          },
          "metadata": {
            "tags": []
          },
          "execution_count": 17
        },
        {
          "output_type": "display_data",
          "data": {
            "image/png": "[encoded data removed]",
            "text/plain": [
              "<Figure size 432x288 with 1 Axes>"
            ]
          },
          "metadata": {
            "tags": [],
            "needs_background": "light"
          }
        }
      ]
    },
    {
      "cell_type": "code",
      "metadata": {
        "id": "hcrIi8Pm7UFq"
      },
      "source": [
        "lowarea,upparea=remove_outlier(data['bathroom'])\r\n",
        "data['bathroom']=np.where(data['bathroom']>upparea,upparea,data['bathroom'])\r\n",
        "data['bathroom']=np.where(data['bathroom']<lowarea,lowarea,data['bathroom'])"
      ],
      "execution_count": null,
      "outputs": []
    },
    {
      "cell_type": "code",
      "metadata": {
        "id": "bFB9O28z7UAw",
        "colab": {
          "base_uri": "https://localhost:8080/",
          "height": 282
        },
        "outputId": "8503bf79-7fa0-478e-c871-754abf4febf7"
      },
      "source": [
        "data.boxplot(column=[\"bathroom\"])\r\n",
        "plt.show"
      ],
      "execution_count": null,
      "outputs": [
        {
          "output_type": "execute_result",
          "data": {
            "text/plain": [
              "<function matplotlib.pyplot.show>"
            ]
          },
          "metadata": {
            "tags": []
          },
          "execution_count": 19
        },
        {
          "output_type": "display_data",
          "data": {
            "image/png": "[encoded data removed]",
            "text/plain": [
              "<Figure size 432x288 with 1 Axes>"
            ]
          },
          "metadata": {
            "tags": [],
            "needs_background": "light"
          }
        }
      ]
    },
    {
      "cell_type": "code",
      "metadata": {
        "id": "RpEUFPSY7lWf",
        "colab": {
          "base_uri": "https://localhost:8080/",
          "height": 282
        },
        "outputId": "1018d130-5858-4e40-cdab-6d8d5ac48278"
      },
      "source": [
        "data.boxplot(column=[\"parking spaces\"])\r\n",
        "plt.show"
      ],
      "execution_count": null,
      "outputs": [
        {
          "output_type": "execute_result",
          "data": {
            "text/plain": [
              "<function matplotlib.pyplot.show>"
            ]
          },
          "metadata": {
            "tags": []
          },
          "execution_count": 20
        },
        {
          "output_type": "display_data",
          "data": {
            "image/png": "[encoded data removed]",
            "text/plain": [
              "<Figure size 432x288 with 1 Axes>"
            ]
          },
          "metadata": {
            "tags": [],
            "needs_background": "light"
          }
        }
      ]
    },
    {
      "cell_type": "code",
      "metadata": {
        "id": "vsnDnTV08C0R"
      },
      "source": [
        "lowarea,upparea=remove_outlier(data['parking spaces'])\r\n",
        "data['parking spaces']=np.where(data['parking spaces']>upparea,upparea,data['parking spaces'])\r\n",
        "data['parking spaces']=np.where(data['parking spaces']<lowarea,lowarea,data['parking spaces'])"
      ],
      "execution_count": null,
      "outputs": []
    },
    {
      "cell_type": "code",
      "metadata": {
        "id": "24q_mhZW8UWq",
        "colab": {
          "base_uri": "https://localhost:8080/",
          "height": 282
        },
        "outputId": "9b0ed1a2-894f-496e-bf54-30f6a6e75ff4"
      },
      "source": [
        "data.boxplot(column=[\"parking spaces\"])\r\n",
        "plt.show"
      ],
      "execution_count": null,
      "outputs": [
        {
          "output_type": "execute_result",
          "data": {
            "text/plain": [
              "<function matplotlib.pyplot.show>"
            ]
          },
          "metadata": {
            "tags": []
          },
          "execution_count": 22
        },
        {
          "output_type": "display_data",
          "data": {
            "image/png": "[encoded data removed]",
            "text/plain": [
              "<Figure size 432x288 with 1 Axes>"
            ]
          },
          "metadata": {
            "tags": [],
            "needs_background": "light"
          }
        }
      ]
    },
    {
      "cell_type": "code",
      "metadata": {
        "id": "9ljER5918XeQ",
        "colab": {
          "base_uri": "https://localhost:8080/",
          "height": 293
        },
        "outputId": "7ec9aba0-7d91-47b8-c3c1-b65aefbf5944"
      },
      "source": [
        "data.boxplot(column=['hoa (R$)'])\r\n",
        "plt.show"
      ],
      "execution_count": null,
      "outputs": [
        {
          "output_type": "execute_result",
          "data": {
            "text/plain": [
              "<function matplotlib.pyplot.show>"
            ]
          },
          "metadata": {
            "tags": []
          },
          "execution_count": 23
        },
        {
          "output_type": "display_data",
          "data": {
            "image/png": "[encoded data removed]",
            "text/plain": [
              "<Figure size 432x288 with 1 Axes>"
            ]
          },
          "metadata": {
            "tags": [],
            "needs_background": "light"
          }
        }
      ]
    },
    {
      "cell_type": "code",
      "metadata": {
        "id": "rbqyGK-R9gcd"
      },
      "source": [
        "lowarea,upparea=remove_outlier(data['hoa (R$)'])\r\n",
        "data['hoa (R$)']=np.where(data['hoa (R$)']>upparea,upparea,data['hoa (R$)'])\r\n",
        "data['hoa (R$)']=np.where(data['hoa (R$)']<lowarea,lowarea,data['hoa (R$)'])"
      ],
      "execution_count": null,
      "outputs": []
    },
    {
      "cell_type": "code",
      "metadata": {
        "id": "yvyRsjEM9uwB",
        "colab": {
          "base_uri": "https://localhost:8080/",
          "height": 282
        },
        "outputId": "15da62d9-d5a7-4477-e37d-9d94fbe6c956"
      },
      "source": [
        "data.boxplot(column=['hoa (R$)'])\r\n",
        "plt.show"
      ],
      "execution_count": null,
      "outputs": [
        {
          "output_type": "execute_result",
          "data": {
            "text/plain": [
              "<function matplotlib.pyplot.show>"
            ]
          },
          "metadata": {
            "tags": []
          },
          "execution_count": 25
        },
        {
          "output_type": "display_data",
          "data": {
            "image/png": "[encoded data removed]",
            "text/plain": [
              "<Figure size 432x288 with 1 Axes>"
            ]
          },
          "metadata": {
            "tags": [],
            "needs_background": "light"
          }
        }
      ]
    },
    {
      "cell_type": "code",
      "metadata": {
        "id": "8xjyuOyi9ygR",
        "colab": {
          "base_uri": "https://localhost:8080/",
          "height": 282
        },
        "outputId": "27e4a750-03e1-4ddc-aba0-bf36ad62bcf2"
      },
      "source": [
        "data.boxplot(column=['rent amount (R$)'])\r\n",
        "plt.show"
      ],
      "execution_count": null,
      "outputs": [
        {
          "output_type": "execute_result",
          "data": {
            "text/plain": [
              "<function matplotlib.pyplot.show>"
            ]
          },
          "metadata": {
            "tags": []
          },
          "execution_count": 26
        },
        {
          "output_type": "display_data",
          "data": {
            "image/png": "[encoded data removed]",
            "text/plain": [
              "<Figure size 432x288 with 1 Axes>"
            ]
          },
          "metadata": {
            "tags": [],
            "needs_background": "light"
          }
        }
      ]
    },
    {
      "cell_type": "code",
      "metadata": {
        "id": "SYMVYA8c96le"
      },
      "source": [
        "lowarea,upparea=remove_outlier(data['rent amount (R$)'])\r\n",
        "data['rent amount (R$)']=np.where(data['rent amount (R$)']>upparea,upparea,data['rent amount (R$)'])\r\n",
        "data['rent amount (R$)']=np.where(data['rent amount (R$)']<lowarea,lowarea,data['rent amount (R$)'])"
      ],
      "execution_count": null,
      "outputs": []
    },
    {
      "cell_type": "code",
      "metadata": {
        "id": "EjsiNlU9-Tif",
        "colab": {
          "base_uri": "https://localhost:8080/",
          "height": 282
        },
        "outputId": "22b24046-f360-419f-b1b8-d91b138b762e"
      },
      "source": [
        "data.boxplot(column=['rent amount (R$)'])\r\n",
        "plt.show"
      ],
      "execution_count": null,
      "outputs": [
        {
          "output_type": "execute_result",
          "data": {
            "text/plain": [
              "<function matplotlib.pyplot.show>"
            ]
          },
          "metadata": {
            "tags": []
          },
          "execution_count": 28
        },
        {
          "output_type": "display_data",
          "data": {
            "image/png": "[encoded data removed]",
            "text/plain": [
              "<Figure size 432x288 with 1 Axes>"
            ]
          },
          "metadata": {
            "tags": [],
            "needs_background": "light"
          }
        }
      ]
    },
    {
      "cell_type": "code",
      "metadata": {
        "id": "wqVYUBTy-XxO",
        "colab": {
          "base_uri": "https://localhost:8080/",
          "height": 282
        },
        "outputId": "44198dc3-a6a4-476a-f9df-879ac7f8c2ae"
      },
      "source": [
        "data.boxplot(column=['property tax (R$)'])\r\n",
        "plt.show"
      ],
      "execution_count": null,
      "outputs": [
        {
          "output_type": "execute_result",
          "data": {
            "text/plain": [
              "<function matplotlib.pyplot.show>"
            ]
          },
          "metadata": {
            "tags": []
          },
          "execution_count": 29
        },
        {
          "output_type": "display_data",
          "data": {
            "image/png": "[encoded data removed]",
            "text/plain": [
              "<Figure size 432x288 with 1 Axes>"
            ]
          },
          "metadata": {
            "tags": [],
            "needs_background": "light"
          }
        }
      ]
    },
    {
      "cell_type": "code",
      "metadata": {
        "id": "Kme26if0-jRz"
      },
      "source": [
        "lowarea,upparea=remove_outlier(data['rent amount (R$)'])\r\n",
        "data['rent amount (R$)']=np.where(data['rent amount (R$)']>upparea,upparea,data['rent amount (R$)'])\r\n",
        "data['rent amount (R$)']=np.where(data['rent amount (R$)']<lowarea,lowarea,data['rent amount (R$)'])"
      ],
      "execution_count": null,
      "outputs": []
    },
    {
      "cell_type": "code",
      "metadata": {
        "id": "itUIQ4qNBbz4",
        "colab": {
          "base_uri": "https://localhost:8080/",
          "height": 282
        },
        "outputId": "4bb2db8c-753b-402b-de90-70a5d03187cc"
      },
      "source": [
        "data.boxplot(column=['property tax (R$)'])\r\n",
        "plt.show"
      ],
      "execution_count": null,
      "outputs": [
        {
          "output_type": "execute_result",
          "data": {
            "text/plain": [
              "<function matplotlib.pyplot.show>"
            ]
          },
          "metadata": {
            "tags": []
          },
          "execution_count": 31
        },
        {
          "output_type": "display_data",
          "data": {
            "image/png": "[encoded data removed]",
            "text/plain": [
              "<Figure size 432x288 with 1 Axes>"
            ]
          },
          "metadata": {
            "tags": [],
            "needs_background": "light"
          }
        }
      ]
    },
    {
      "cell_type": "code",
      "metadata": {
        "id": "oPJQnh-OBjjD"
      },
      "source": [
        "lowarea,upparea=remove_outlier(data['property tax (R$)'])\r\n",
        "data['property tax (R$)']=np.where(data['property tax (R$)']>upparea,upparea,data['property tax (R$)'])\r\n",
        "data['property tax (R$)']=np.where(data['property tax (R$)']<lowarea,lowarea,data['property tax (R$)'])"
      ],
      "execution_count": null,
      "outputs": []
    },
    {
      "cell_type": "code",
      "metadata": {
        "id": "YDevKXNCBvUk",
        "colab": {
          "base_uri": "https://localhost:8080/",
          "height": 282
        },
        "outputId": "cafbd303-d6ff-4335-c437-7083faf7c11f"
      },
      "source": [
        "data.boxplot(column=['property tax (R$)'])\r\n",
        "plt.show"
      ],
      "execution_count": null,
      "outputs": [
        {
          "output_type": "execute_result",
          "data": {
            "text/plain": [
              "<function matplotlib.pyplot.show>"
            ]
          },
          "metadata": {
            "tags": []
          },
          "execution_count": 33
        },
        {
          "output_type": "display_data",
          "data": {
            "image/png": "[encoded data removed]",
            "text/plain": [
              "<Figure size 432x288 with 1 Axes>"
            ]
          },
          "metadata": {
            "tags": [],
            "needs_background": "light"
          }
        }
      ]
    },
    {
      "cell_type": "code",
      "metadata": {
        "id": "etCEi9hFBw9M",
        "colab": {
          "base_uri": "https://localhost:8080/",
          "height": 293
        },
        "outputId": "6117b72d-c39c-4c0b-ddeb-806dc472b99c"
      },
      "source": [
        "data.boxplot(column=['total (R$)'])\r\n",
        "plt.show"
      ],
      "execution_count": null,
      "outputs": [
        {
          "output_type": "execute_result",
          "data": {
            "text/plain": [
              "<function matplotlib.pyplot.show>"
            ]
          },
          "metadata": {
            "tags": []
          },
          "execution_count": 34
        },
        {
          "output_type": "display_data",
          "data": {
            "image/png": "[encoded data removed]",
            "text/plain": [
              "<Figure size 432x288 with 1 Axes>"
            ]
          },
          "metadata": {
            "tags": [],
            "needs_background": "light"
          }
        }
      ]
    },
    {
      "cell_type": "code",
      "metadata": {
        "id": "Sz6CCaSnB0s-"
      },
      "source": [
        "lowarea,upparea=remove_outlier(data['total (R$)'])\r\n",
        "data['total (R$)']=np.where(data['total (R$)']>upparea,upparea,data['total (R$)'])\r\n",
        "data['total (R$)']=np.where(data['total (R$)']<lowarea,lowarea,data['total (R$)'])"
      ],
      "execution_count": null,
      "outputs": []
    },
    {
      "cell_type": "code",
      "metadata": {
        "id": "mI4qUVUcCK7u",
        "colab": {
          "base_uri": "https://localhost:8080/",
          "height": 282
        },
        "outputId": "978c6128-0f7a-4af7-e260-295ea59f93f4"
      },
      "source": [
        "data.boxplot(column=['total (R$)'])\r\n",
        "plt.show"
      ],
      "execution_count": null,
      "outputs": [
        {
          "output_type": "execute_result",
          "data": {
            "text/plain": [
              "<function matplotlib.pyplot.show>"
            ]
          },
          "metadata": {
            "tags": []
          },
          "execution_count": 36
        },
        {
          "output_type": "display_data",
          "data": {
            "image/png": "[encoded data removed]",
            "text/plain": [
              "<Figure size 432x288 with 1 Axes>"
            ]
          },
          "metadata": {
            "tags": [],
            "needs_background": "light"
          }
        }
      ]
    },
    {
      "cell_type": "markdown",
      "metadata": {
        "id": "pOiMB6_23u0E"
      },
      "source": [
        "# **Correlation Matrix**"
      ]
    },
    {
      "cell_type": "code",
      "metadata": {
        "id": "uZIWfjkCCzg9",
        "colab": {
          "base_uri": "https://localhost:8080/",
          "height": 466
        },
        "outputId": "fa959a15-3987-40e1-ee6c-7a86ae867a54"
      },
      "source": [
        "data.corr()"
      ],
      "execution_count": null,
      "outputs": [
        {
          "output_type": "execute_result",
          "data": {
            "text/html": [
              "<div>\n",
              "<style scoped>\n",
              "    .dataframe tbody tr th:only-of-type {\n",
              "        vertical-align: middle;\n",
              "    }\n",
              "\n",
              "    .dataframe tbody tr th {\n",
              "        vertical-align: top;\n",
              "    }\n",
              "\n",
              "    .dataframe thead th {\n",
              "        text-align: right;\n",
              "    }\n",
              "</style>\n",
              "<table border=\"1\" class=\"dataframe\">\n",
              "  <thead>\n",
              "    <tr style=\"text-align: right;\">\n",
              "      <th></th>\n",
              "      <th>city</th>\n",
              "      <th>area</th>\n",
              "      <th>rooms</th>\n",
              "      <th>bathroom</th>\n",
              "      <th>parking spaces</th>\n",
              "      <th>floor</th>\n",
              "      <th>animal</th>\n",
              "      <th>furniture</th>\n",
              "      <th>hoa (R$)</th>\n",
              "      <th>rent amount (R$)</th>\n",
              "      <th>property tax (R$)</th>\n",
              "      <th>fire insurance (R$)</th>\n",
              "      <th>total (R$)</th>\n",
              "    </tr>\n",
              "  </thead>\n",
              "  <tbody>\n",
              "    <tr>\n",
              "      <th>city</th>\n",
              "      <td>1.000000</td>\n",
              "      <td>0.039877</td>\n",
              "      <td>-0.041941</td>\n",
              "      <td>0.089178</td>\n",
              "      <td>0.050968</td>\n",
              "      <td>0.111192</td>\n",
              "      <td>-0.014973</td>\n",
              "      <td>0.111979</td>\n",
              "      <td>0.211522</td>\n",
              "      <td>0.210799</td>\n",
              "      <td>0.175702</td>\n",
              "      <td>0.149550</td>\n",
              "      <td>0.230544</td>\n",
              "    </tr>\n",
              "    <tr>\n",
              "      <th>area</th>\n",
              "      <td>0.039877</td>\n",
              "      <td>1.000000</td>\n",
              "      <td>0.759739</td>\n",
              "      <td>0.807250</td>\n",
              "      <td>0.700413</td>\n",
              "      <td>-0.092020</td>\n",
              "      <td>0.140921</td>\n",
              "      <td>-0.011150</td>\n",
              "      <td>0.319593</td>\n",
              "      <td>0.725001</td>\n",
              "      <td>0.712812</td>\n",
              "      <td>0.729693</td>\n",
              "      <td>0.731084</td>\n",
              "    </tr>\n",
              "    <tr>\n",
              "      <th>rooms</th>\n",
              "      <td>-0.041941</td>\n",
              "      <td>0.759739</td>\n",
              "      <td>1.000000</td>\n",
              "      <td>0.737319</td>\n",
              "      <td>0.650453</td>\n",
              "      <td>-0.071093</td>\n",
              "      <td>0.172407</td>\n",
              "      <td>-0.078467</td>\n",
              "      <td>0.317944</td>\n",
              "      <td>0.571344</td>\n",
              "      <td>0.592818</td>\n",
              "      <td>0.556393</td>\n",
              "      <td>0.585702</td>\n",
              "    </tr>\n",
              "    <tr>\n",
              "      <th>bathroom</th>\n",
              "      <td>0.089178</td>\n",
              "      <td>0.807250</td>\n",
              "      <td>0.737319</td>\n",
              "      <td>1.000000</td>\n",
              "      <td>0.712023</td>\n",
              "      <td>0.004482</td>\n",
              "      <td>0.115648</td>\n",
              "      <td>0.023490</td>\n",
              "      <td>0.406791</td>\n",
              "      <td>0.697012</td>\n",
              "      <td>0.696778</td>\n",
              "      <td>0.673314</td>\n",
              "      <td>0.722381</td>\n",
              "    </tr>\n",
              "    <tr>\n",
              "      <th>parking spaces</th>\n",
              "      <td>0.050968</td>\n",
              "      <td>0.700413</td>\n",
              "      <td>0.650453</td>\n",
              "      <td>0.712023</td>\n",
              "      <td>1.000000</td>\n",
              "      <td>0.020427</td>\n",
              "      <td>0.128349</td>\n",
              "      <td>0.004640</td>\n",
              "      <td>0.352652</td>\n",
              "      <td>0.608869</td>\n",
              "      <td>0.632397</td>\n",
              "      <td>0.582593</td>\n",
              "      <td>0.625632</td>\n",
              "    </tr>\n",
              "    <tr>\n",
              "      <th>floor</th>\n",
              "      <td>0.111192</td>\n",
              "      <td>-0.092020</td>\n",
              "      <td>-0.071093</td>\n",
              "      <td>0.004482</td>\n",
              "      <td>0.020427</td>\n",
              "      <td>1.000000</td>\n",
              "      <td>-0.033619</td>\n",
              "      <td>0.115293</td>\n",
              "      <td>0.354856</td>\n",
              "      <td>0.080326</td>\n",
              "      <td>0.071053</td>\n",
              "      <td>0.009841</td>\n",
              "      <td>0.140443</td>\n",
              "    </tr>\n",
              "    <tr>\n",
              "      <th>animal</th>\n",
              "      <td>-0.014973</td>\n",
              "      <td>0.140921</td>\n",
              "      <td>0.172407</td>\n",
              "      <td>0.115648</td>\n",
              "      <td>0.128349</td>\n",
              "      <td>-0.033619</td>\n",
              "      <td>1.000000</td>\n",
              "      <td>-0.081020</td>\n",
              "      <td>0.016595</td>\n",
              "      <td>0.068698</td>\n",
              "      <td>0.092810</td>\n",
              "      <td>0.076535</td>\n",
              "      <td>0.066065</td>\n",
              "    </tr>\n",
              "    <tr>\n",
              "      <th>furniture</th>\n",
              "      <td>0.111979</td>\n",
              "      <td>-0.011150</td>\n",
              "      <td>-0.078467</td>\n",
              "      <td>0.023490</td>\n",
              "      <td>0.004640</td>\n",
              "      <td>0.115293</td>\n",
              "      <td>-0.081020</td>\n",
              "      <td>1.000000</td>\n",
              "      <td>0.154186</td>\n",
              "      <td>0.183806</td>\n",
              "      <td>0.060863</td>\n",
              "      <td>0.144082</td>\n",
              "      <td>0.179531</td>\n",
              "    </tr>\n",
              "    <tr>\n",
              "      <th>hoa (R$)</th>\n",
              "      <td>0.211522</td>\n",
              "      <td>0.319593</td>\n",
              "      <td>0.317944</td>\n",
              "      <td>0.406791</td>\n",
              "      <td>0.352652</td>\n",
              "      <td>0.354856</td>\n",
              "      <td>0.016595</td>\n",
              "      <td>0.154186</td>\n",
              "      <td>1.000000</td>\n",
              "      <td>0.451991</td>\n",
              "      <td>0.550024</td>\n",
              "      <td>0.333669</td>\n",
              "      <td>0.627374</td>\n",
              "    </tr>\n",
              "    <tr>\n",
              "      <th>rent amount (R$)</th>\n",
              "      <td>0.210799</td>\n",
              "      <td>0.725001</td>\n",
              "      <td>0.571344</td>\n",
              "      <td>0.697012</td>\n",
              "      <td>0.608869</td>\n",
              "      <td>0.080326</td>\n",
              "      <td>0.068698</td>\n",
              "      <td>0.183806</td>\n",
              "      <td>0.451991</td>\n",
              "      <td>1.000000</td>\n",
              "      <td>0.702031</td>\n",
              "      <td>0.952494</td>\n",
              "      <td>0.962869</td>\n",
              "    </tr>\n",
              "    <tr>\n",
              "      <th>property tax (R$)</th>\n",
              "      <td>0.175702</td>\n",
              "      <td>0.712812</td>\n",
              "      <td>0.592818</td>\n",
              "      <td>0.696778</td>\n",
              "      <td>0.632397</td>\n",
              "      <td>0.071053</td>\n",
              "      <td>0.092810</td>\n",
              "      <td>0.060863</td>\n",
              "      <td>0.550024</td>\n",
              "      <td>0.702031</td>\n",
              "      <td>1.000000</td>\n",
              "      <td>0.664586</td>\n",
              "      <td>0.787201</td>\n",
              "    </tr>\n",
              "    <tr>\n",
              "      <th>fire insurance (R$)</th>\n",
              "      <td>0.149550</td>\n",
              "      <td>0.729693</td>\n",
              "      <td>0.556393</td>\n",
              "      <td>0.673314</td>\n",
              "      <td>0.582593</td>\n",
              "      <td>0.009841</td>\n",
              "      <td>0.076535</td>\n",
              "      <td>0.144082</td>\n",
              "      <td>0.333669</td>\n",
              "      <td>0.952494</td>\n",
              "      <td>0.664586</td>\n",
              "      <td>1.000000</td>\n",
              "      <td>0.912015</td>\n",
              "    </tr>\n",
              "    <tr>\n",
              "      <th>total (R$)</th>\n",
              "      <td>0.230544</td>\n",
              "      <td>0.731084</td>\n",
              "      <td>0.585702</td>\n",
              "      <td>0.722381</td>\n",
              "      <td>0.625632</td>\n",
              "      <td>0.140443</td>\n",
              "      <td>0.066065</td>\n",
              "      <td>0.179531</td>\n",
              "      <td>0.627374</td>\n",
              "      <td>0.962869</td>\n",
              "      <td>0.787201</td>\n",
              "      <td>0.912015</td>\n",
              "      <td>1.000000</td>\n",
              "    </tr>\n",
              "  </tbody>\n",
              "</table>\n",
              "</div>"
            ],
            "text/plain": [
              "                         city      area  ...  fire insurance (R$)  total (R$)\n",
              "city                 1.000000  0.039877  ...             0.149550    0.230544\n",
              "area                 0.039877  1.000000  ...             0.729693    0.731084\n",
              "rooms               -0.041941  0.759739  ...             0.556393    0.585702\n",
              "bathroom             0.089178  0.807250  ...             0.673314    0.722381\n",
              "parking spaces       0.050968  0.700413  ...             0.582593    0.625632\n",
              "floor                0.111192 -0.092020  ...             0.009841    0.140443\n",
              "animal              -0.014973  0.140921  ...             0.076535    0.066065\n",
              "furniture            0.111979 -0.011150  ...             0.144082    0.179531\n",
              "hoa (R$)             0.211522  0.319593  ...             0.333669    0.627374\n",
              "rent amount (R$)     0.210799  0.725001  ...             0.952494    0.962869\n",
              "property tax (R$)    0.175702  0.712812  ...             0.664586    0.787201\n",
              "fire insurance (R$)  0.149550  0.729693  ...             1.000000    0.912015\n",
              "total (R$)           0.230544  0.731084  ...             0.912015    1.000000\n",
              "\n",
              "[13 rows x 13 columns]"
            ]
          },
          "metadata": {
            "tags": []
          },
          "execution_count": 37
        }
      ]
    },
    {
      "cell_type": "code",
      "metadata": {
        "id": "A_LP28VdI-Mp",
        "colab": {
          "base_uri": "https://localhost:8080/"
        },
        "outputId": "b4c51060-7cc4-49a4-c8b2-c87b73c2516f"
      },
      "source": [
        "print(data)"
      ],
      "execution_count": null,
      "outputs": [
        {
          "output_type": "stream",
          "text": [
            "       city   area  rooms  ...  property tax (R$)  fire insurance (R$)  total (R$)\n",
            "0         4   70.0    2.0  ...            211.000                   42      5618.0\n",
            "1         4  320.0    4.0  ...            912.875                   63      7973.0\n",
            "2         2   80.0    1.0  ...              0.000                   41      3841.0\n",
            "3         2   51.0    2.0  ...             22.000                   17      1421.0\n",
            "4         4   25.0    1.0  ...             25.000                   11       836.0\n",
            "...     ...    ...    ...  ...                ...                  ...         ...\n",
            "10687     2   63.0    2.0  ...             24.000                   22      1926.0\n",
            "10688     4  285.0    4.0  ...            912.875                  191     14106.0\n",
            "10689     3   70.0    3.0  ...            332.000                   78      7390.0\n",
            "10690     3  120.0    2.0  ...            279.000                  155     14020.0\n",
            "10691     4   80.0    2.0  ...            165.000                   22      1587.0\n",
            "\n",
            "[10334 rows x 13 columns]\n"
          ],
          "name": "stdout"
        }
      ]
    },
    {
      "cell_type": "markdown",
      "metadata": {
        "id": "2VluJxBB4Ffr"
      },
      "source": [
        "# **Fitting the Model**"
      ]
    },
    {
      "cell_type": "code",
      "metadata": {
        "id": "7Dk5j2HboQCn",
        "colab": {
          "base_uri": "https://localhost:8080/"
        },
        "outputId": "fc1f6872-932a-4179-e9bf-ae9f85d5ee04"
      },
      "source": [
        "import statsmodels.api as sm \r\n",
        "from sklearn.metrics import mean_squared_error, mean_absolute_error, r2_score\r\n",
        "metrics = [] \r\n",
        "x = data.iloc[:, :-1].values\r\n",
        "y = data.iloc[:, -1].values\r\n",
        "x_train, x_test, y_train, y_test = train_test_split(x, y, test_size=0.3, random_state = 8)\r\n",
        "reg = LinearRegression() \r\n",
        "reg.fit(x_train, y_train) \r\n",
        "predict = reg.predict(x_test)\r\n",
        "\r\n",
        "x_train_constant = sm.add_constant(x_train)\r\n",
        "model_sm = sm.OLS(y_train, x_train_constant, hascont = True).fit()\r\n",
        "print(model_sm.summary())\r\n",
        "\r\n",
        "print('MAE: ', mean_absolute_error(y_test, predict).round(3))\r\n",
        "print('RMSE: ', np.sqrt(mean_squared_error(y_test, predict)).round(3))\r\n",
        "print('R2:', r2_score(y_test, predict).round(3))"
      ],
      "execution_count": null,
      "outputs": [
        {
          "output_type": "stream",
          "text": [
            "                            OLS Regression Results                            \n",
            "==============================================================================\n",
            "Dep. Variable:                      y   R-squared:                       0.984\n",
            "Model:                            OLS   Adj. R-squared:                  0.984\n",
            "Method:                 Least Squares   F-statistic:                 3.819e+04\n",
            "Date:                Mon, 08 Mar 2021   Prob (F-statistic):               0.00\n",
            "Time:                        17:26:02   Log-Likelihood:                -54908.\n",
            "No. Observations:                7233   AIC:                         1.098e+05\n",
            "Df Residuals:                    7220   BIC:                         1.099e+05\n",
            "Df Model:                          12                                         \n",
            "Covariance Type:            nonrobust                                         \n",
            "==============================================================================\n",
            "                 coef    std err          t      P>|t|      [0.025      0.975]\n",
            "------------------------------------------------------------------------------\n",
            "const        -74.1995     22.861     -3.246      0.001    -119.013     -29.386\n",
            "x1            22.6379      4.247      5.331      0.000      14.313      30.963\n",
            "x2             0.3725      0.119      3.127      0.002       0.139       0.606\n",
            "x3           -41.5147      8.946     -4.640      0.000     -59.052     -23.977\n",
            "x4            49.0091      7.990      6.133      0.000      33.346      64.673\n",
            "x5           -27.7943      7.478     -3.717      0.000     -42.454     -13.135\n",
            "x6             0.9344      0.984      0.949      0.343      -0.995       2.864\n",
            "x7           -34.7085     13.887     -2.499      0.012     -61.931      -7.487\n",
            "x8            10.8014     13.850      0.780      0.435     -16.349      37.952\n",
            "x9             1.0115      0.009    113.318      0.000       0.994       1.029\n",
            "x10            0.7756      0.009     90.976      0.000       0.759       0.792\n",
            "x11            1.4553      0.033     44.173      0.000       1.391       1.520\n",
            "x12           17.1368      0.477     35.909      0.000      16.201      18.072\n",
            "==============================================================================\n",
            "Omnibus:                     8153.209   Durbin-Watson:                   1.968\n",
            "Prob(Omnibus):                  0.000   Jarque-Bera (JB):          1644910.866\n",
            "Skew:                           5.522   Prob(JB):                         0.00\n",
            "Kurtosis:                      76.048   Cond. No.                     2.08e+04\n",
            "==============================================================================\n",
            "\n",
            "Warnings:\n",
            "[1] Standard Errors assume that the covariance matrix of the errors is correctly specified.\n",
            "[2] The condition number is large, 2.08e+04. This might indicate that there are\n",
            "strong multicollinearity or other numerical problems.\n",
            "MAE:  214.313\n",
            "RMSE:  528.931\n",
            "R2: 0.981\n"
          ],
          "name": "stdout"
        }
      ]
    },
    {
      "cell_type": "markdown",
      "metadata": {
        "id": "7wUVn7Y23-vq"
      },
      "source": [
        "# **Plotting the Graph**"
      ]
    },
    {
      "cell_type": "code",
      "metadata": {
        "id": "DsTqXzrwvV3B",
        "colab": {
          "base_uri": "https://localhost:8080/",
          "height": 567
        },
        "outputId": "a67db886-9291-42c7-a71d-898886155dd5"
      },
      "source": [
        "plt.figure(figsize=(10,8))\r\n",
        "plt.xlabel('Prediction Rent amount', fontsize = 10)\r\n",
        "plt.ylabel('rent_amount', fontsize = 10)\r\n",
        "\r\n",
        "sns.scatterplot(predict, y_test)"
      ],
      "execution_count": null,
      "outputs": [
        {
          "output_type": "stream",
          "text": [
            "/usr/local/lib/python3.7/dist-packages/seaborn/_decorators.py:43: FutureWarning: Pass the following variables as keyword args: x, y. From version 0.12, the only valid positional argument will be `data`, and passing other arguments without an explicit keyword will result in an error or misinterpretation.\n",
            "  FutureWarning\n"
          ],
          "name": "stderr"
        },
        {
          "output_type": "execute_result",
          "data": {
            "text/plain": [
              "<matplotlib.axes._subplots.AxesSubplot at 0x7f8a0c13bdd0>"
            ]
          },
          "metadata": {
            "tags": []
          },
          "execution_count": 44
        },
        {
          "output_type": "display_data",
          "data": {
            "image/png": "[encoded data removed]",
            "text/plain": [
              "<Figure size 720x576 with 1 Axes>"
            ]
          },
          "metadata": {
            "tags": [],
            "needs_background": "light"
          }
        }
      ]
    }
  ]
}