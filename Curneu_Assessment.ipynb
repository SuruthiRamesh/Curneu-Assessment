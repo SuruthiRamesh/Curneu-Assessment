{
  "nbformat": 4,
  "nbformat_minor": 0,
  "metadata": {
    "colab": {
      "name": "Curneu Assessment.ipynb",
      "private_outputs": true,
      "provenance": [],
      "collapsed_sections": []
    },
    "kernelspec": {
      "name": "python3",
      "display_name": "Python 3"
    }
  },
  "cells": [
    {
      "cell_type": "markdown",
      "metadata": {
        "id": "nC6t-QbMbKgF"
      },
      "source": [
        "# **Importing Libraries**"
      ]
    },
    {
      "cell_type": "code",
      "metadata": {
        "id": "zIucFqtdbKgJ"
      },
      "source": [
        "import numpy as np\r\n",
        "import matplotlib.pyplot as plt\r\n",
        "import pandas as pd\r\n",
        "from google.colab import files\r\n",
        "from sklearn.preprocessing import StandardScaler\r\n",
        "from sklearn.model_selection import train_test_split\r\n",
        "from collections import Counter\r\n",
        "from matplotlib.colors import ListedColormap"
      ],
      "execution_count": null,
      "outputs": []
    },
    {
      "cell_type": "markdown",
      "metadata": {
        "id": "JqhgQZJpbCbL"
      },
      "source": [
        "# **Decision Tree**"
      ]
    },
    {
      "cell_type": "code",
      "metadata": {
        "id": "5MuL4nD4ZZjW"
      },
      "source": [
        "def entropy(y):\r\n",
        "\r\n",
        "  hist = np.bincount(y)\r\n",
        "  ps = hist / len(y)\r\n",
        "  return -np.sum([p * np.log2(p) for p in ps if p > 0])\r\n",
        "\r\n",
        "\r\n",
        "class Node:\r\n",
        "\r\n",
        "  def __init__(self, feature=None, threshold=None, left=None, right=None, *, value=None):\r\n",
        "\r\n",
        "    self.feature = feature\r\n",
        "    self.threshold = threshold\r\n",
        "    self.left = left\r\n",
        "    self.right = right\r\n",
        "    self.value = value\r\n",
        "\r\n",
        "  def is_leaf_node(self):\r\n",
        "\r\n",
        "    return self.value is not None\r\n",
        "\r\n",
        "\r\n",
        "class DecisionTree:\r\n",
        "\r\n",
        "  def __init__(self, min_samples_split=2, max_depth=100, n_feats=None):\r\n",
        "    self.min_samples_split = min_samples_split\r\n",
        "    self.max_depth = max_depth\r\n",
        "    self.n_feats = n_feats\r\n",
        "    self.root = None\r\n",
        "\r\n",
        "  def fit(self, X, y):\r\n",
        "    self.n_feats = X.shape[1] if not self.n_feats else min(self.n_feats, X.shape[1])\r\n",
        "    self.root = self._grow_tree(X, y)\r\n",
        "\r\n",
        "  def predict(self, X):\r\n",
        "    return np.array([self._traverse_tree(x, self.root) for x in X])\r\n",
        "\r\n",
        "  def _grow_tree(self, X, y, depth=0):\r\n",
        "    n_samples, n_features = X.shape\r\n",
        "    n_labels = len(np.unique(y))\r\n",
        "\r\n",
        "    if (depth >= self.max_depth\r\n",
        "            or n_labels == 1\r\n",
        "            or n_samples < self.min_samples_split):\r\n",
        "        leaf_value = self._most_common_label(y)\r\n",
        "        return Node(value=leaf_value)\r\n",
        "\r\n",
        "    feat_idxs = np.random.choice(n_features, self.n_feats, replace=False)\r\n",
        "\r\n",
        "    best_feat, best_thresh = self._best_criteria(X, y, feat_idxs)\r\n",
        "    \r\n",
        "    left_idxs, right_idxs = self._split(X[:, best_feat], best_thresh)\r\n",
        "    left = self._grow_tree(X[left_idxs, :], y[left_idxs], depth+1)\r\n",
        "    right = self._grow_tree(X[right_idxs, :], y[right_idxs], depth+1)\r\n",
        "    return Node(best_feat, best_thresh, left, right)\r\n",
        "\r\n",
        "  def _best_criteria(self, X, y, feat_idxs):\r\n",
        "    best_gain = -1\r\n",
        "    split_idx, split_thresh = None, None\r\n",
        "    for feat_idx in feat_idxs:\r\n",
        "        X_column = X[:, feat_idx]\r\n",
        "        thresholds = np.unique(X_column)\r\n",
        "        for threshold in thresholds:\r\n",
        "            gain = self._information_gain(y, X_column, threshold)\r\n",
        "\r\n",
        "            if gain > best_gain:\r\n",
        "                best_gain = gain\r\n",
        "                split_idx = feat_idx\r\n",
        "                split_thresh = threshold\r\n",
        "\r\n",
        "    return split_idx, split_thresh\r\n",
        "\r\n",
        "  def _information_gain(self, y, X_column, split_thresh):\r\n",
        "\r\n",
        "    parent_entropy = entropy(y)\r\n",
        "\r\n",
        "    left_idxs, right_idxs = self._split(X_column, split_thresh)\r\n",
        "\r\n",
        "    if len(left_idxs) == 0 or len(right_idxs) == 0:\r\n",
        "        return 0\r\n",
        "\r\n",
        "    n = len(y)\r\n",
        "    n_l, n_r = len(left_idxs), len(right_idxs)\r\n",
        "    e_l, e_r = entropy(y[left_idxs]), entropy(y[right_idxs])\r\n",
        "    child_entropy = (n_l / n) * e_l + (n_r / n) * e_r\r\n",
        "\r\n",
        "    ig = parent_entropy - child_entropy\r\n",
        "    return ig\r\n",
        "\r\n",
        "  def _split(self, X_column, split_thresh):\r\n",
        "    left_idxs = np.argwhere(X_column <= split_thresh).flatten()\r\n",
        "    right_idxs = np.argwhere(X_column > split_thresh).flatten()\r\n",
        "    return left_idxs, right_idxs\r\n",
        "\r\n",
        "  def _traverse_tree(self, x, node):\r\n",
        "    if node.is_leaf_node():\r\n",
        "        return node.value\r\n",
        "\r\n",
        "    if x[node.feature] <= node.threshold:\r\n",
        "        return self._traverse_tree(x, node.left)\r\n",
        "    return self._traverse_tree(x, node.right)\r\n",
        "\r\n",
        "  def _most_common_label(self, y):\r\n",
        "    counter = Counter(y)\r\n",
        "    most_common = counter.most_common(1)[0][0]\r\n",
        "    return most_common"
      ],
      "execution_count": null,
      "outputs": []
    },
    {
      "cell_type": "code",
      "metadata": {
        "id": "6vmSxIMBa2i4"
      },
      "source": [
        "def accuracy(y_true, y_pred):\r\n",
        "  accuracy = np.sum(y_true == y_pred) / len(y_true)\r\n",
        "  return accuracy"
      ],
      "execution_count": null,
      "outputs": []
    },
    {
      "cell_type": "markdown",
      "metadata": {
        "id": "vSTpZxE7bKgL"
      },
      "source": [
        "# **Loading Dataset**"
      ]
    },
    {
      "cell_type": "code",
      "metadata": {
        "id": "LgERMtTNbKgL"
      },
      "source": [
        "df = files.upload()\r\n",
        "df = pd.read_excel('Social_Network_Ads.xlsx')\r\n",
        "df.head()"
      ],
      "execution_count": null,
      "outputs": []
    },
    {
      "cell_type": "markdown",
      "metadata": {
        "id": "IY22aU4DjQaZ"
      },
      "source": [
        "# **Data Preprocessing**"
      ]
    },
    {
      "cell_type": "code",
      "metadata": {
        "id": "ZGqsnyU2jgz_"
      },
      "source": [
        "df.isnull().sum()"
      ],
      "execution_count": null,
      "outputs": []
    },
    {
      "cell_type": "code",
      "metadata": {
        "id": "-rM6_mTyjjhi"
      },
      "source": [
        "df.columns"
      ],
      "execution_count": null,
      "outputs": []
    },
    {
      "cell_type": "code",
      "metadata": {
        "id": "ue9e7ENqjn6b"
      },
      "source": [
        "df.columns = ['User_ID', 'Gender', 'Age', 'Estimated_Salary', 'Purchased']"
      ],
      "execution_count": null,
      "outputs": []
    },
    {
      "cell_type": "code",
      "metadata": {
        "id": "rnAS-VfJkcI6"
      },
      "source": [
        "df.info()"
      ],
      "execution_count": null,
      "outputs": []
    },
    {
      "cell_type": "markdown",
      "metadata": {
        "id": "hXeZm72FbKgM"
      },
      "source": [
        "#**Preparing for Model**"
      ]
    },
    {
      "cell_type": "code",
      "metadata": {
        "id": "aKZuxT88bKgM"
      },
      "source": [
        "X = df.iloc[:,[2,3]].values\r\n",
        "y = df.iloc[:,4].values\r\n",
        "X_train, X_test, y_train, y_test = train_test_split(X, y, test_size = 0.25, random_state = 0)\r\n",
        "\r\n",
        "sc = StandardScaler()\r\n",
        "X_train = sc.fit_transform(X_train)\r\n",
        "X_test = sc.transform(X_test)"
      ],
      "execution_count": null,
      "outputs": []
    },
    {
      "cell_type": "markdown",
      "metadata": {
        "id": "mqMxQlMDbKgN"
      },
      "source": [
        "# **Implementing Decision Tree**"
      ]
    },
    {
      "cell_type": "code",
      "metadata": {
        "id": "xFUA_1XQbKgN"
      },
      "source": [
        "classifier = DecisionTree(max_depth=7)\r\n",
        "classifier.fit(X_train,y_train)\r\n",
        "y_pred = classifier.predict(X_test)"
      ],
      "execution_count": null,
      "outputs": []
    },
    {
      "cell_type": "markdown",
      "metadata": {
        "id": "6uLqCDYsbKgN"
      },
      "source": [
        "# **Model Evaluation**"
      ]
    },
    {
      "cell_type": "code",
      "metadata": {
        "id": "Gb5h-395Kvuz"
      },
      "source": [
        ""
      ],
      "execution_count": null,
      "outputs": []
    },
    {
      "cell_type": "code",
      "metadata": {
        "id": "uvDNzFXGbKgN"
      },
      "source": [
        "acc = accuracy(y_test, y_pred)\r\n",
        "print('Accuracy: %.3f' % acc)"
      ],
      "execution_count": null,
      "outputs": []
    },
    {
      "cell_type": "markdown",
      "metadata": {
        "id": "bTyNfO9kKogH"
      },
      "source": [
        "# **Graph**"
      ]
    },
    {
      "cell_type": "code",
      "metadata": {
        "id": "Uj1EXNv-bKgO"
      },
      "source": [
        "plt.rcParams[\"figure.figsize\"] = (10,8)\r\n",
        "\r\n",
        "from matplotlib.colors import ListedColormap\r\n",
        "X_set, y_set = X_train, y_train\r\n",
        "X1, X2 = np.meshgrid(np.arange(start = X_set[:, 0].min() - 1, stop = X_set[:, 0].max() + 1, step = 0.01),\r\n",
        "                     np.arange(start = X_set[:, 1].min() - 1, stop = X_set[:, 1].max() + 1, step = 0.01))\r\n",
        "plt.contourf(X1, X2, classifier.predict(np.array([X1.ravel(), X2.ravel()]).T).reshape(X1.shape),\r\n",
        "             alpha = 0.75, cmap = ListedColormap(('red', 'green')))\r\n",
        "plt.xlim(X1.min(), X1.max())\r\n",
        "plt.ylim(X2.min(), X2.max())\r\n",
        "for i, j in enumerate(np.unique(y_set)):\r\n",
        "    plt.scatter(X_set[y_set == j, 0], X_set[y_set == j, 1],\r\n",
        "                c = ListedColormap(('red', 'green'))(i), label = j)\r\n",
        "plt.title('Decision Tree Classifier (Training set)')\r\n",
        "plt.xlabel('Age')\r\n",
        "plt.ylabel('Estimated Salary')\r\n",
        "plt.legend()\r\n",
        "plt.show()\r\n"
      ],
      "execution_count": null,
      "outputs": []
    }
  ]
}